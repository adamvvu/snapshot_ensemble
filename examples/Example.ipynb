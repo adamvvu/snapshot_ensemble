{
 "cells": [
  {
   "cell_type": "code",
   "execution_count": 14,
   "metadata": {
    "ExecuteTime": {
     "end_time": "2022-08-18T05:24:32.718895Z",
     "start_time": "2022-08-18T05:24:32.706853Z"
    }
   },
   "outputs": [],
   "source": [
    "{\"tags\": [\"hide-output\" ]}\n",
    "import numpy as np\n",
    "import pandas as pd\n",
    "import matplotlib.pyplot as plt"
   ]
  },
  {
   "cell_type": "markdown",
   "metadata": {},
   "source": [
    "In this very simple example, we will train a deep neural network (DNN) to classify flower species on the well-known [Iris](https://archive.ics.uci.edu/ml/datasets/iris) dataset. We will then demonstrate how `snapshot_ensemble` may be used to automatically save the neural network at several points during training, in order to generate an ensemble of models at the cost of training a single one."
   ]
  },
  {
   "cell_type": "markdown",
   "metadata": {},
   "source": [
    "## Data"
   ]
  },
  {
   "cell_type": "code",
   "execution_count": 2,
   "metadata": {
    "ExecuteTime": {
     "end_time": "2022-08-18T05:22:01.393903Z",
     "start_time": "2022-08-18T05:22:00.792346Z"
    }
   },
   "outputs": [
    {
     "data": {
      "text/html": [
       "<div>\n",
       "<style scoped>\n",
       "    .dataframe tbody tr th:only-of-type {\n",
       "        vertical-align: middle;\n",
       "    }\n",
       "\n",
       "    .dataframe tbody tr th {\n",
       "        vertical-align: top;\n",
       "    }\n",
       "\n",
       "    .dataframe thead th {\n",
       "        text-align: right;\n",
       "    }\n",
       "</style>\n",
       "<table border=\"1\" class=\"dataframe\">\n",
       "  <thead>\n",
       "    <tr style=\"text-align: right;\">\n",
       "      <th></th>\n",
       "      <th>SepalLengthCm</th>\n",
       "      <th>SepalWidthCm</th>\n",
       "      <th>PetalLengthCm</th>\n",
       "      <th>PetalWidthCm</th>\n",
       "      <th>Species</th>\n",
       "    </tr>\n",
       "  </thead>\n",
       "  <tbody>\n",
       "    <tr>\n",
       "      <th>0</th>\n",
       "      <td>5.1</td>\n",
       "      <td>3.5</td>\n",
       "      <td>1.4</td>\n",
       "      <td>0.2</td>\n",
       "      <td>Iris-setosa</td>\n",
       "    </tr>\n",
       "    <tr>\n",
       "      <th>1</th>\n",
       "      <td>4.9</td>\n",
       "      <td>3.0</td>\n",
       "      <td>1.4</td>\n",
       "      <td>0.2</td>\n",
       "      <td>Iris-setosa</td>\n",
       "    </tr>\n",
       "    <tr>\n",
       "      <th>2</th>\n",
       "      <td>4.7</td>\n",
       "      <td>3.2</td>\n",
       "      <td>1.3</td>\n",
       "      <td>0.2</td>\n",
       "      <td>Iris-setosa</td>\n",
       "    </tr>\n",
       "    <tr>\n",
       "      <th>3</th>\n",
       "      <td>4.6</td>\n",
       "      <td>3.1</td>\n",
       "      <td>1.5</td>\n",
       "      <td>0.2</td>\n",
       "      <td>Iris-setosa</td>\n",
       "    </tr>\n",
       "    <tr>\n",
       "      <th>4</th>\n",
       "      <td>5.0</td>\n",
       "      <td>3.6</td>\n",
       "      <td>1.4</td>\n",
       "      <td>0.2</td>\n",
       "      <td>Iris-setosa</td>\n",
       "    </tr>\n",
       "  </tbody>\n",
       "</table>\n",
       "</div>"
      ],
      "text/plain": [
       "   SepalLengthCm  SepalWidthCm  PetalLengthCm  PetalWidthCm      Species\n",
       "0            5.1           3.5            1.4           0.2  Iris-setosa\n",
       "1            4.9           3.0            1.4           0.2  Iris-setosa\n",
       "2            4.7           3.2            1.3           0.2  Iris-setosa\n",
       "3            4.6           3.1            1.5           0.2  Iris-setosa\n",
       "4            5.0           3.6            1.4           0.2  Iris-setosa"
      ]
     },
     "execution_count": 2,
     "metadata": {},
     "output_type": "execute_result"
    }
   ],
   "source": [
    "# Read Iris Dataset from UCI Repository\n",
    "df = pd.read_csv('https://archive.ics.uci.edu/ml/machine-learning-databases/iris/iris.data', header=None)\n",
    "df.columns = ['SepalLengthCm', 'SepalWidthCm', 'PetalLengthCm', 'PetalWidthCm', 'Species']\n",
    "df.head()"
   ]
  },
  {
   "cell_type": "markdown",
   "metadata": {},
   "source": [
    "There are 150 samples in this dataset, with 4 features corresponding to the length and width of the flower characteristics. The outcome variable is categorical, corresponding to 3 species of Iris flowers, which we will one-hot-encode."
   ]
  },
  {
   "cell_type": "code",
   "execution_count": 3,
   "metadata": {
    "ExecuteTime": {
     "end_time": "2022-08-18T05:22:02.213030Z",
     "start_time": "2022-08-18T05:22:02.199020Z"
    }
   },
   "outputs": [],
   "source": [
    "# Prepare features/targets for supervised learning\n",
    "X, targets = df.iloc[:,:4], df.iloc[:,-1]\n",
    "N, numFeatures = X.shape\n",
    "\n",
    "# One-hot-encode targets\n",
    "targetEnc = ['Iris-setosa', 'Iris-versicolor', 'Iris-virginica']\n",
    "numOutcomes = len(targetEnc)\n",
    "Y = np.zeros((N, numOutcomes))\n",
    "for n,outcome in enumerate(targets):\n",
    "    Y[n, targetEnc.index( outcome ) ] = 1"
   ]
  },
  {
   "cell_type": "markdown",
   "metadata": {},
   "source": [
    "## Model"
   ]
  },
  {
   "cell_type": "markdown",
   "metadata": {},
   "source": [
    "We will first train the DNN as usual, using a very small architecture given the data size with standard cross-entropy loss."
   ]
  },
  {
   "cell_type": "code",
   "execution_count": 4,
   "metadata": {
    "ExecuteTime": {
     "end_time": "2022-08-18T05:22:05.164986Z",
     "start_time": "2022-08-18T05:22:03.394158Z"
    },
    "code_folding": []
   },
   "outputs": [],
   "source": [
    "import tensorflow as tf\n",
    "import tensorflow.keras as tfk\n",
    "\n",
    "def CompileDNNModel(numFeatures=4, numOutcomes=3, architecture=[6,6]):\n",
    "    x = tfk.Input(shape=(numFeatures,))\n",
    "    f = x\n",
    "    for nodes in architecture:\n",
    "        f = tfk.layers.Dense(nodes, activation='relu')(f)\n",
    "    f = tfk.layers.Dense(numOutcomes, activation='softmax')(f)\n",
    "    \n",
    "    model = tfk.Model(inputs=x, outputs=f)\n",
    "    model.compile(\n",
    "        loss=tfk.losses.CategoricalCrossentropy(from_logits=False),\n",
    "        optimizer=tfk.optimizers.Adam(),\n",
    "    )\n",
    "    return model"
   ]
  },
  {
   "cell_type": "code",
   "execution_count": 5,
   "metadata": {
    "ExecuteTime": {
     "end_time": "2022-08-18T05:22:07.828565Z",
     "start_time": "2022-08-18T05:22:05.165989Z"
    }
   },
   "outputs": [],
   "source": [
    "# Train the model\n",
    "architecture = [6,6]\n",
    "model = CompileDNNModel(numFeatures=numFeatures, numOutcomes=numOutcomes, architecture=architecture)\n",
    "lossHistory = model.fit(X, Y, \n",
    "                        batch_size=50,\n",
    "                        epochs=250,\n",
    "                        shuffle=True,\n",
    "                        verbose=0\n",
    "                       )"
   ]
  },
  {
   "cell_type": "code",
   "execution_count": 6,
   "metadata": {
    "ExecuteTime": {
     "end_time": "2022-08-18T05:22:07.924565Z",
     "start_time": "2022-08-18T05:22:07.829566Z"
    }
   },
   "outputs": [
    {
     "data": {
      "text/plain": [
       "[<matplotlib.lines.Line2D at 0x2149bc3e278>]"
      ]
     },
     "execution_count": 6,
     "metadata": {},
     "output_type": "execute_result"
    },
    {
     "data": {
      "image/png": "[encoded data removed]",
      "text/plain": [
       "<Figure size 432x288 with 1 Axes>"
      ]
     },
     "metadata": {
      "needs_background": "light"
     },
     "output_type": "display_data"
    }
   ],
   "source": [
    "# Loss history\n",
    "plt.plot(lossHistory.history['loss'])"
   ]
  },
  {
   "cell_type": "code",
   "execution_count": 7,
   "metadata": {
    "ExecuteTime": {
     "end_time": "2022-08-18T05:22:12.853711Z",
     "start_time": "2022-08-18T05:22:12.210898Z"
    }
   },
   "outputs": [
    {
     "name": "stdout",
     "output_type": "stream",
     "text": [
      "              precision    recall  f1-score   support\n",
      "\n",
      "           0       1.00      1.00      1.00        50\n",
      "           1       0.91      0.86      0.89        50\n",
      "           2       0.87      0.92      0.89        50\n",
      "\n",
      "    accuracy                           0.93       150\n",
      "   macro avg       0.93      0.93      0.93       150\n",
      "weighted avg       0.93      0.93      0.93       150\n",
      "\n"
     ]
    }
   ],
   "source": [
    "# Make predictions\n",
    "Y_hat = model.predict(X)\n",
    "\n",
    "# Evaluate model\n",
    "from sklearn.metrics import classification_report\n",
    "print(classification_report(np.argmax(Y, axis=-1), np.argmax(Y_hat, axis=-1)))"
   ]
  },
  {
   "cell_type": "markdown",
   "metadata": {},
   "source": [
    "We can see that the model performance is very good after 250 epochs, with accuracy at 93% and F1-scores around 0.89-1.0."
   ]
  },
  {
   "cell_type": "markdown",
   "metadata": {},
   "source": [
    "### Model (Snapshot Ensemble)"
   ]
  },
  {
   "cell_type": "markdown",
   "metadata": {},
   "source": [
    "Now we will demonstrate how to use `snapshot_ensemble` to generate an ensemble of trained DNNs at the cost of a single training period. The DNN will be trained with cosine annealing, and here we just use the default hyperparameters which we can visualize below:"
   ]
  },
  {
   "cell_type": "code",
   "execution_count": 8,
   "metadata": {
    "ExecuteTime": {
     "end_time": "2022-08-18T05:22:52.895735Z",
     "start_time": "2022-08-18T05:22:52.784933Z"
    }
   },
   "outputs": [
    {
     "data": {
      "image/png": "[encoded data removed]",
      "text/plain": [
       "<Figure size 432x288 with 1 Axes>"
      ]
     },
     "execution_count": 8,
     "metadata": {},
     "output_type": "execute_result"
    }
   ],
   "source": [
    "from snapshot_ensemble import *\n",
    "VisualizeLR(cycle_length=10, cycle_length_multiplier=1.5, lr_multiplier=0.9, lr_init=0.01, lr_min=1e-6)"
   ]
  },
  {
   "cell_type": "markdown",
   "metadata": {},
   "source": [
    "To do this, we simply pass in `SnapshotEnsembleCallback` into the `callbacks` argument when training. If validation data is supplied and we wished to also save the \"best\" model that minimizes validation loss, we may also use the helper function `GenerateSnapshotCallbacks()` that includes both `SnapshotEnsembleCallback` and `ModelCheckpoint`. By default, these models are saved into `Ensemble/` in the current working directory."
   ]
  },
  {
   "cell_type": "code",
   "execution_count": 9,
   "metadata": {
    "ExecuteTime": {
     "end_time": "2022-08-18T05:23:01.442321Z",
     "start_time": "2022-08-18T05:22:58.464626Z"
    }
   },
   "outputs": [
    {
     "name": "stdout",
     "output_type": "stream",
     "text": [
      "Saving ensembled models to Ensemble/.\n",
      "WARNING:tensorflow:Callback method `on_train_batch_end` is slow compared to the batch time (batch time: 0.0018s vs `on_train_batch_end` time: 0.0050s). Check your callbacks.\n"
     ]
    }
   ],
   "source": [
    "# Compile the DNN model\n",
    "architecture = [6,6]\n",
    "model = CompileDNNModel(numFeatures=numFeatures, numOutcomes=numOutcomes, architecture=architecture)\n",
    "\n",
    "# Snapshot Ensemble callbacks\n",
    "callbacks = [\n",
    "    # Note: See `help(SnapshotEnsembleCallback)` for documentation on the hyperparameters\n",
    "    SnapshotEnsembleCallback(cycle_length=10, cycle_length_multiplier=1.5, lr_multiplier=0.9, lr_init=0.01, lr_min=1e-6),   \n",
    "]\n",
    "\n",
    "# Train the model with cosine annealing + snapshot ensemble\n",
    "lossHistory = model.fit(X, Y, \n",
    "                        batch_size=50,\n",
    "                        epochs=250,\n",
    "                        callbacks=callbacks,\n",
    "                        shuffle=True,\n",
    "                        verbose=0\n",
    "                       )"
   ]
  },
  {
   "cell_type": "code",
   "execution_count": 10,
   "metadata": {
    "ExecuteTime": {
     "end_time": "2022-08-18T05:23:05.447732Z",
     "start_time": "2022-08-18T05:23:05.367611Z"
    }
   },
   "outputs": [
    {
     "data": {
      "text/plain": [
       "[<matplotlib.lines.Line2D at 0x216676d0dd8>]"
      ]
     },
     "execution_count": 10,
     "metadata": {},
     "output_type": "execute_result"
    },
    {
     "data": {
      "image/png": "[encoded data removed]",
      "text/plain": [
       "<Figure size 432x288 with 1 Axes>"
      ]
     },
     "metadata": {
      "needs_background": "light"
     },
     "output_type": "display_data"
    }
   ],
   "source": [
    "# Loss history\n",
    "plt.plot(lossHistory.history['loss'])"
   ]
  },
  {
   "cell_type": "markdown",
   "metadata": {},
   "source": [
    "After training, we will load the saved models from `Ensemble/` to be used as part of an ensemble. For simplicity, we will use uniform weights and average each model's estimates."
   ]
  },
  {
   "cell_type": "code",
   "execution_count": 11,
   "metadata": {
    "ExecuteTime": {
     "end_time": "2022-08-18T05:23:07.390241Z",
     "start_time": "2022-08-18T05:23:07.197543Z"
    }
   },
   "outputs": [],
   "source": [
    "# Load in snapshotted models as an ensemble\n",
    "import glob\n",
    "models = []\n",
    "for file in glob.glob('Ensemble/*.h5'):\n",
    "    mod = CompileDNNModel(numFeatures=numFeatures, numOutcomes=numOutcomes, architecture=architecture)\n",
    "    mod.load_weights( file )\n",
    "    models.append( mod )"
   ]
  },
  {
   "cell_type": "code",
   "execution_count": 12,
   "metadata": {
    "ExecuteTime": {
     "end_time": "2022-08-18T05:23:09.182761Z",
     "start_time": "2022-08-18T05:23:08.747524Z"
    }
   },
   "outputs": [],
   "source": [
    "# Make ensembled predictions\n",
    "Y_hat_ens = []\n",
    "for mod in models:\n",
    "    Y_hat_k = mod.predict( X )\n",
    "    Y_hat_ens.append( Y_hat_k )\n",
    "\n",
    "# Ensemble with simple uniform weights\n",
    "Y_hat_ens = np.mean(Y_hat_ens, axis=0)"
   ]
  },
  {
   "cell_type": "code",
   "execution_count": 13,
   "metadata": {
    "ExecuteTime": {
     "end_time": "2022-08-18T05:23:09.938706Z",
     "start_time": "2022-08-18T05:23:09.917817Z"
    }
   },
   "outputs": [
    {
     "name": "stdout",
     "output_type": "stream",
     "text": [
      "              precision    recall  f1-score   support\n",
      "\n",
      "           0       1.00      1.00      1.00        50\n",
      "           1       1.00      0.94      0.97        50\n",
      "           2       0.94      1.00      0.97        50\n",
      "\n",
      "    accuracy                           0.98       150\n",
      "   macro avg       0.98      0.98      0.98       150\n",
      "weighted avg       0.98      0.98      0.98       150\n",
      "\n"
     ]
    }
   ],
   "source": [
    "# Evaluate model\n",
    "print(classification_report(np.argmax(Y, axis=-1), np.argmax(Y_hat_ens, axis=-1)))"
   ]
  },
  {
   "cell_type": "markdown",
   "metadata": {},
   "source": [
    "We can see that accuracy has improved to 98% as well as the F1-scores to 0.97-1.0. Note that the hyperparameters of the learning rate schedule can be important and the default values are likely suboptimal for your task - they will require some hyperparameter tuning and understanding of the loss surface."
   ]
  }
 ],
 "metadata": {
  "kernelspec": {
   "display_name": "Python 3",
   "language": "python",
   "name": "python3"
  },
  "language_info": {
   "codemirror_mode": {
    "name": "ipython",
    "version": 3
   },
   "file_extension": ".py",
   "mimetype": "text/x-python",
   "name": "python",
   "nbconvert_exporter": "python",
   "pygments_lexer": "ipython3",
   "version": "3.6.10"
  }
 },
 "nbformat": 4,
 "nbformat_minor": 4
}
